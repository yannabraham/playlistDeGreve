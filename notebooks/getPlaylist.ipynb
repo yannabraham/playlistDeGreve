{
 "metadata": {
  "name": ""
 },
 "nbformat": 3,
 "nbformat_minor": 0,
 "worksheets": [
  {
   "cells": [
    {
     "cell_type": "code",
     "collapsed": false,
     "input": [
      "from bs4 import BeautifulSoup\n",
      "import requests\n",
      "import re\n",
      "import pandas as pd\n",
      "import matplotlib.pyplot as plt\n",
      "import seaborn as sns\n",
      "\n",
      "%matplotlib inline"
     ],
     "language": "python",
     "metadata": {},
     "outputs": [],
     "prompt_number": 58
    },
    {
     "cell_type": "code",
     "collapsed": false,
     "input": [
      "# Fonctions\n",
      "def cleanString(txt):\n",
      "    txt = txt.replace('\\n',' ')\n",
      "    txt = txt.replace('\\xa0',' ')\n",
      "    return(txt)"
     ],
     "language": "python",
     "metadata": {},
     "outputs": [],
     "prompt_number": 2
    },
    {
     "cell_type": "code",
     "collapsed": false,
     "input": [
      "r = requests.get('http://www.franceinter.fr/depeche-retrouvez-toute-la-playlist-de-greve')\n",
      "soup = BeautifulSoup(r.content)"
     ],
     "language": "python",
     "metadata": {},
     "outputs": [],
     "prompt_number": 3
    },
    {
     "cell_type": "code",
     "collapsed": false,
     "input": [
      "chansons = []\n",
      "shows = soup.find_all('h5')\n",
      "for curShow in shows:\n",
      "    showInfo = curShow.next.string\n",
      "    if not showInfo is None:\n",
      "        showInfo = cleanString(showInfo)\n",
      "        showInfo = showInfo.replace(', ',' - ')\n",
      "        showInfo = showInfo.replace('\u2013','-')\n",
      "        if showInfo!=' ':\n",
      "            showInfo = showInfo.split(' - ')[:2]\n",
      "            showInfo = dict(zip(['date','heure'],showInfo))\n",
      "            print(showInfo)\n",
      "            curSong = curShow.nextSibling\n",
      "            while curSong.name!='h5':\n",
      "                if curSong.name=='p':\n",
      "                    curString = curSong.string\n",
      "                    curString = cleanString(curString)\n",
      "                    songInfo = curString.split(' - ')\n",
      "                    if len(songInfo)>1:\n",
      "                        #print(songInfo)\n",
      "                        songInfo = dict(zip(['artiste','titre'],songInfo))\n",
      "                        songInfo['id'] = curString\n",
      "                        songInfo.update(showInfo)\n",
      "                        chansons.append(songInfo)\n",
      "                curSong = curSong.nextSibling"
     ],
     "language": "python",
     "metadata": {},
     "outputs": [
      {
       "ename": "AttributeError",
       "evalue": "'NoneType' object has no attribute 'name'",
       "output_type": "pyerr",
       "traceback": [
        "\u001b[1;31m---------------------------------------------------------------------------\u001b[0m\n\u001b[1;31mAttributeError\u001b[0m                            Traceback (most recent call last)",
        "\u001b[1;32m<ipython-input-71-4ebd32514c5d>\u001b[0m in \u001b[0;36m<module>\u001b[1;34m()\u001b[0m\n\u001b[0;32m     12\u001b[0m             \u001b[0mprint\u001b[0m\u001b[1;33m(\u001b[0m\u001b[0mshowInfo\u001b[0m\u001b[1;33m)\u001b[0m\u001b[1;33m\u001b[0m\u001b[0m\n\u001b[0;32m     13\u001b[0m             \u001b[0mcurSong\u001b[0m \u001b[1;33m=\u001b[0m \u001b[0mcurShow\u001b[0m\u001b[1;33m.\u001b[0m\u001b[0mnextSibling\u001b[0m\u001b[1;33m\u001b[0m\u001b[0m\n\u001b[1;32m---> 14\u001b[1;33m             \u001b[1;32mwhile\u001b[0m \u001b[0mcurSong\u001b[0m\u001b[1;33m.\u001b[0m\u001b[0mname\u001b[0m\u001b[1;33m!=\u001b[0m\u001b[1;34m'h5'\u001b[0m\u001b[1;33m:\u001b[0m\u001b[1;33m\u001b[0m\u001b[0m\n\u001b[0m\u001b[0;32m     15\u001b[0m                 \u001b[1;32mif\u001b[0m \u001b[0mcurSong\u001b[0m\u001b[1;33m.\u001b[0m\u001b[0mname\u001b[0m\u001b[1;33m==\u001b[0m\u001b[1;34m'p'\u001b[0m\u001b[1;33m:\u001b[0m\u001b[1;33m\u001b[0m\u001b[0m\n\u001b[0;32m     16\u001b[0m                     \u001b[0mcurString\u001b[0m \u001b[1;33m=\u001b[0m \u001b[0mcurSong\u001b[0m\u001b[1;33m.\u001b[0m\u001b[0mstring\u001b[0m\u001b[1;33m\u001b[0m\u001b[0m\n",
        "\u001b[1;31mAttributeError\u001b[0m: 'NoneType' object has no attribute 'name'"
       ]
      },
      {
       "output_type": "stream",
       "stream": "stdout",
       "text": [
        "{'heure': 'entre 11h et 12h', 'date': 'Lundi 6 avril'}\n",
        "{'heure': 'entre 9h et 10h', 'date': 'Dimanche 5 avril'}\n",
        "{'heure': 'entre 7h et 8h', 'date': 'Samedi 4 avril'}\n",
        "{'heure': 'entre 8h et 9h', 'date': 'Samedi 4 avril'}\n",
        "{'heure': 'entre 9h et 10h', 'date': 'Samedi 4 avril'}\n",
        "{'heure': 'entre 10h et 11h', 'date': 'Samedi 4 avril'}\n",
        "{'heure': 'entre 11h et midi', 'date': 'Samedi 4 avril'}\n",
        "{'heure': 'entre midi et 13h', 'date': 'Samedi 4 avril'}\n",
        "{'heure': 'entre 13h et 14h', 'date': 'Samedi 4 avril'}\n",
        "{'heure': 'entre 14h et 15h', 'date': 'Samedi 4 avril'}\n",
        "{'heure': 'entre 16h et 17h', 'date': 'Samedi 4 avril'}\n",
        "{'heure': 'entre 17h et 18h', 'date': 'Samdi 4 avril'}\n",
        "{'heure': 'entre 21h et 22h', 'date': 'Samedi 4 avril'}\n",
        "{'heure': 'entre 6h et 7h', 'date': 'Vendredi 3 avril'}\n",
        "{'heure': 'entre 7h et 8h', 'date': 'Vendredi 3 avril'}\n",
        "{'heure': 'entre 8h et 9h', 'date': 'Vendredi 3 avril'}\n",
        "{'heure': 'entre 9h et 9h45', 'date': 'Vendredi 3 avril'}\n",
        "{'heure': 'entre 10h et 11h', 'date': 'Vendredi 3 avril'}\n",
        "{'heure': 'entre 11h et midi', 'date': 'Vendredi 3 avril'}\n",
        "{'heure': 'entre midi et 12h30', 'date': 'Vendredi 3 avril'}\n",
        "{'heure': 'entre 14h et 15h', 'date': 'Vendredi 3 avril'}\n",
        "{'heure': 'entre 15h et 16h', 'date': 'Vendredi 3 avril'}\n",
        "{'heure': 'entre 16h et 17h', 'date': 'Vendredi 3 avril'}\n",
        "{'heure': 'entre 17h et 18h', 'date': 'Vendredi 3 avril'}\n",
        "{'heure': 'entre 18h et 19h', 'date': 'Vendredi 3 avril'}\n",
        "{'heure': 'entre 19h et 20h', 'date': 'Vendredi 3 avril'}\n",
        "{'heure': 'entre 5h et 6h', 'date': 'Jeudi 2 avril'}\n",
        "{'heure': 'entre 6h et 7h', 'date': 'Jeudi 2 avril'}\n",
        "{'heure': 'entre 7h et 8h', 'date': 'Jeudi 2 avril'}\n",
        "{'heure': 'entre 8h et 9h', 'date': 'Jeudi 2 avril'}\n",
        "{'heure': 'entre 14h et 15h', 'date': 'Jeudi 2 avril'}\n",
        "{'heure': 'entre 15h et 16h', 'date': 'Jeudi 2 avril'}\n",
        "{'heure': 'entre 16h et 17h', 'date': 'Jeudi 2 avril'}\n",
        "{'heure': 'entre 17h et 18h', 'date': 'Jeudi 2 avril'}\n",
        "{'heure': 'entre 23h et minuit', 'date': 'Jeudi 2 avril'}\n",
        "{'heure': 'entre 5h et 6h', 'date': 'Mercredi 1er avril'}\n",
        "{'heure': 'entre 6h et 7h', 'date': 'Mercredi 1er avril'}\n",
        "{'heure': 'entre 7h et 8h- ', 'date': 'Mercredi 1er avril'}\n",
        "{'heure': 'entre 8h et 9h- ', 'date': 'Mercredi 1er avril'}\n",
        "{'heure': 'entre 13h30 et 14h', 'date': 'Mercredi 1er avril'}\n",
        "{'heure': 'entre 14h et 15h', 'date': 'Mercredi 1er avril'}\n",
        "{'heure': 'entre 15h et 16h', 'date': 'Mercredi 1er avril'}\n",
        "{'heure': 'entre 16h et 17h', 'date': 'Mercredi 1er avril'}\n",
        "{'heure': 'entre 17h et 18h', 'date': 'Mercredi 1er avril'}\n",
        "{'heure': 'entre 20h et 21h', 'date': 'Mercredi 1e avril'}\n",
        "{'heure': 'entre 21h et 22h', 'date': 'Mercredi 1e avril'}\n",
        "{'heure': 'entre 22h et 23h -', 'date': 'Mercredi 1e avril'}\n",
        "{'heure': 'entre 23h et minuit', 'date': 'Mercredi 1e avril'}\n",
        "{'heure': 'entre 6h et 7h', 'date': 'Mardi 31mars'}\n",
        "{'heure': 'entre 7h et 8h', 'date': 'Mardi 31 mars'}\n",
        "{'heure': 'entre 8h et 9h', 'date': 'Mardi 31 mars'}\n",
        "{'heure': 'entre 13h30 et 14h', 'date': 'Mardi 31 mars'}\n",
        "{'heure': 'entre 14h et 15h', 'date': 'Mardi 31 mars'}\n",
        "{'heure': 'entre 15h et 16h', 'date': 'Mardi 31 mars'}\n",
        "{'heure': 'entre 16h et 17h', 'date': 'Mardi 31 mars'}\n",
        "{'heure': 'entre 20h et 21h', 'date': 'Mardi 31 mars'}\n",
        "{'heure': 'entre 21h et 23h', 'date': 'Mardi 31 mars'}\n",
        "{'heure': 'entre 6h et 7h', 'date': 'Lundi 30 mars'}\n",
        "{'heure': 'entre 7h et 8h', 'date': 'Lundi 30 mars'}\n",
        "{'heure': 'entre 8h et 9h', 'date': 'Lundi 30 mars'}\n",
        "{'heure': 'entre 12h30 et 13h', 'date': 'Lundi 30 mars'}\n",
        "{'heure': 'entre 14h et 15h', 'date': 'Lundi 30 mars'}\n",
        "{'heure': 'entre 15h et 16h', 'date': 'Lundi 30 mars'}\n",
        "{'heure': 'entre 16h et 17h', 'date': 'Lundi 30 mars'}\n",
        "{'heure': 'entre 17h et 18h', 'date': 'Lundi 30 mars'}\n",
        "{'heure': 'entre 21h et 23h', 'date': 'Lundi 30 mars'}\n",
        "{'heure': 'entre 8h et 9h', 'date': 'dimanche 29 mars'}\n",
        "{'heure': 'entre 9h et 10h', 'date': 'Dimanche 29 mars'}\n",
        "{'heure': 'entre 10h et 11h', 'date': 'Dimanche 29 mars'}\n",
        "{'heure': 'entre 11h et midi', 'date': 'Dimanche 29 mars'}\n",
        "{'heure': 'entre midi et 13h', 'date': 'Dimanche 29 mars'}\n",
        "{'heure': 'entre 13h et 14h ', 'date': 'Dimanche 29 mars'}\n",
        "{'heure': 'entre 14h et 15h', 'date': 'Dimanche 29 mars'}\n",
        "{'heure': 'entre 15h et 16H', 'date': 'Dimanche 29 mars'}\n",
        "{'heure': 'entre 16h et 17h', 'date': 'Dimanche 19 mars'}\n",
        "{'heure': 'entre 17h et 18h', 'date': 'Dimanche 29 mars'}\n",
        "{'heure': '6h-7h', 'date': 'samedi 28 mars'}\n",
        "{'heure': '7h-8h', 'date': 'samedi 28 mars'}\n",
        "{'heure': '8h-9h', 'date': 'samedi 28 mars'}\n",
        "{'heure': '9h-10h', 'date': 'samedi 28 mars'}\n",
        "{'heure': '10h-11h', 'date': 'samedi 28 mars'}\n",
        "{'heure': '11h-12h', 'date': 'samedi 28 mars'}\n",
        "{'heure': '12h-13h20', 'date': 'samedi 28 mars'}\n",
        "{'heure': '14h-15h', 'date': 'samedi 28 mars'}\n",
        "{'heure': 'entre 16h et 17h', 'date': 'samedi 28 mars'}\n",
        "{'heure': 'entre 17h et 18h', 'date': 'Samedi 28 mars'}\n",
        "{'heure': 'entre 18h et 19h', 'date': 'samedi 28 mars'}\n",
        "{'heure': 'minuit-1h', 'date': 'Vendredi 27 mars'}\n",
        "{'heure': '5h-6h', 'date': 'Vendredi 27 mars'}\n",
        "{'heure': '6h-7h', 'date': 'Vendredi 27 mars'}\n",
        "{'heure': '7h-8h', 'date': 'Vendredi 27 mars'}\n",
        "{'heure': '8h-9h', 'date': 'vendredi 27 mars'}\n",
        "{'heure': '9h-9h45', 'date': 'vendredi 27 mars'}\n",
        "{'heure': '11h-12h', 'date': 'Vendredi 27 mars'}\n",
        "{'heure': '13h15-14h', 'date': 'Vendredi 27 mars'}\n",
        "{'heure': '14h-15h', 'date': 'Vendredi 27 mars'}\n",
        "{'heure': '15h-16h', 'date': 'Vendredi 27 mars'}\n",
        "{'heure': '16h-17h', 'date': 'Vendredi 27 mars'}\n",
        "{'heure': '17h-18h', 'date': 'Vendredi 27 mars'}\n",
        "{'heure': '6h-7h', 'date': 'Jeudi 26 mars'}\n",
        "{'heure': '7h-8h', 'date': 'Jeudi 26 mars'}\n",
        "{'heure': '8h-9h', 'date': 'Jeudi 26 mars'}\n",
        "{'heure': '9h-9h45', 'date': 'Jeudi 26 mars'}\n",
        "{'heure': '10h-11h', 'date': 'Jeudi 26 mars'}\n",
        "{'heure': '13h15-14h', 'date': 'Jeudi 26 mars'}\n",
        "{'heure': '14h-15h', 'date': 'Jeudi 26 mars'}\n",
        "{'heure': '16h-17h', 'date': 'Jeudi 26 mars'}\n",
        "{'heure': '17h-18h', 'date': 'Jeudi 26 mars'}\n",
        "{'heure': 'minuit-1h', 'date': 'Mercredi 25 mars'}\n",
        "{'heure': '5h-6h', 'date': 'Mercredi 25 mars'}\n",
        "{'heure': '6h-7h', 'date': 'Mercredi 25 mars'}\n",
        "{'heure': '7h-8h', 'date': 'Mercredi 25 mars'}\n",
        "{'heure': '8h-9h', 'date': 'Mercredi 25 mars'}\n",
        "{'heure': '10h-11h', 'date': 'Mercredi 25 mars'}\n",
        "{'heure': '13h30-14h', 'date': 'Mercredi 25 mars'}\n",
        "{'heure': '14h-15h', 'date': 'Mercredi 25 mars'}\n",
        "{'heure': '16h-17h', 'date': 'Mercredi 25 mars'}\n",
        "{'heure': '17h-18h', 'date': 'Mercredi 25 mars'}\n",
        "{'heure': '6h/7h', 'date': 'Mardi 24 mars'}\n",
        "{'heure': '7h/8h -', 'date': 'Mardi 24 mars'}\n",
        "{'heure': '9h-9h45', 'date': 'Mardi 24 mars'}\n",
        "{'heure': '10h-11h', 'date': 'Mardi 24 mars'}\n",
        "{'heure': '8h-9h', 'date': 'Mardi 24 mars'}\n",
        "{'heure': '14h-15h', 'date': 'Mardi 24 mars'}\n",
        "{'heure': '15h-16h', 'date': 'Mardi 24 mars'}\n",
        "{'heure': '5h-6h', 'date': 'Lundi 23 mars'}\n",
        "{'heure': '6h-7h', 'date': 'Lundi 23 mars'}\n",
        "{'heure': '7h-8h', 'date': 'Lundi 23 mars'}\n",
        "{'heure': '8h-9h', 'date': 'Lundi 23 mars'}\n",
        "{'heure': '10h-11h', 'date': 'Lundi 23 mars'}\n",
        "{'heure': '13h15-14h', 'date': 'Lundi 23 mars'}\n",
        "{'heure': '14h-15h', 'date': 'Lundi 23 mars'}\n",
        "{'heure': '15h-16h', 'date': 'Lundi 23 mars'}\n",
        "{'heure': '16h-17h', 'date': 'Lundi 23 mars'}\n",
        "{'heure': '17h-18h', 'date': 'Lundi 23 mars'}\n",
        "{'heure': '19h20', 'date': 'Lundi 23 mars'}\n",
        "{'heure': '20h-21h', 'date': 'Lundi 23 mars'}\n",
        "{'heure': '21h-22h', 'date': 'Lundi 23 mars'}\n",
        "{'heure': '5h-6h', 'date': 'Dimanche 22 mars'}\n",
        "{'heure': '6h-7h', 'date': 'Dimanche 22 mars'}\n",
        "{'heure': '8h-9h', 'date': 'Dimanche 22 mars'}\n",
        "{'heure': '9h-10h', 'date': 'Dimanche 22 mars'}\n",
        "{'heure': '12h-13h', 'date': 'Dimanche 22 mars'}\n",
        "{'heure': '15h', 'date': 'Dimanche 22 mars'}\n",
        "{'heure': '16h-17h', 'date': 'Dimanche 22 mars'}\n",
        "{'heure': '17h-18h', 'date': 'Dimanche 22 mars'}\n",
        "{'heure': '22h-23h', 'date': 'Dimanche 22 mars'}\n",
        "{'heure': '7h-8h', 'date': 'Samedi 21 mars'}\n",
        "{'heure': '8h-9h', 'date': 'Samedi 21 mars'}\n",
        "{'heure': '9h-10h', 'date': 'Samedi 21  mars'}\n",
        "{'heure': '14h-15h', 'date': 'Samedi 21 mars'}\n",
        "{'heure': '15h-16h', 'date': 'Samedi 21 mars'}\n",
        "{'heure': '16h-17h', 'date': 'Samedi 21 mars'}\n",
        "{'heure': '22h-23h', 'date': 'Samedi 21 mars'}\n",
        "{'heure': '23h-minuit', 'date': 'Samedi 21 mars'}\n",
        "{'heure': '5h-6h', 'date': 'Vendredi 20 mars'}\n",
        "{'heure': '6h-7h', 'date': 'Vendredi 20 mars'}\n",
        "{'heure': '10h-11h', 'date': 'Vendredi 20 mars'}\n",
        "{'heure': '13h10-13h30', 'date': 'Vendredi 20 mars'}\n",
        "{'heure': '15h-16h', 'date': 'Vendredi 20 mars'}\n",
        "{'heure': '16h-17h', 'date': 'Vendredi 20 mars'}\n",
        "{'heure': '17h-18h', 'date': 'Vendredi 20 mars'}\n",
        "{'heure': '5h-6h', 'date': 'Jeudi 19 mars'}\n",
        "{'heure': '9h45-10h', 'date': 'Jeudi 19 mars'}\n",
        "{'heure': '10h-11h', 'date': 'Jeudi 19 mars'}\n",
        "{'heure': '13h10-13h30', 'date': 'Jeudi 19 mars'}\n",
        "{'heure': '15h-16h', 'date': 'Jeudi 19 mars'}\n",
        "{'heure': '16h-17h', 'date': 'Jeudi 19 mars'}\n",
        "{'heure': '17h-18h', 'date': 'Jeudi 19 mars'}\n",
        "{'heure': '20h-21h -', 'date': 'Jeudi 19 mars'}\n",
        "{'heure': '21h-22h- ', 'date': 'Jeudi 19 mars'}\n",
        "{'heure': '22h-23h -', 'date': 'Jeudi 19 mars'}\n",
        "{'heure': '23h15-minuit', 'date': 'Jeudi 19 mars'}\n"
       ]
      }
     ],
     "prompt_number": 71
    },
    {
     "cell_type": "code",
     "collapsed": false,
     "input": [
      "print(len(chansons))\n",
      "chansons = pd.DataFrame(chansons)"
     ],
     "language": "python",
     "metadata": {},
     "outputs": [
      {
       "output_type": "stream",
       "stream": "stdout",
       "text": [
        "2626\n"
       ]
      }
     ],
     "prompt_number": 72
    },
    {
     "cell_type": "code",
     "collapsed": false,
     "input": [
      "redondance = chansons.groupby('id')['id'].count()\n",
      "redondance.sort(ascending=False)\n",
      "redondance.value_counts(sort=False)"
     ],
     "language": "python",
     "metadata": {},
     "outputs": [
      {
       "metadata": {},
       "output_type": "pyout",
       "prompt_number": 73,
       "text": [
        "1     264\n",
        "2     139\n",
        "3     144\n",
        "4     128\n",
        "5      72\n",
        "6      29\n",
        "7      30\n",
        "8      17\n",
        "9       8\n",
        "10     15\n",
        "11      1\n",
        "13      1\n",
        "14      1\n",
        "dtype: int64"
       ]
      }
     ],
     "prompt_number": 73
    },
    {
     "cell_type": "code",
     "collapsed": false,
     "input": [
      "plt.hist(redondance)"
     ],
     "language": "python",
     "metadata": {},
     "outputs": [
      {
       "metadata": {},
       "output_type": "pyout",
       "prompt_number": 75,
       "text": [
        "(array([ 403.,  144.,  128.,  101.,   30.,   17.,   23.,    1.,    0.,    2.]),\n",
        " array([  1. ,   2.3,   3.6,   4.9,   6.2,   7.5,   8.8,  10.1,  11.4,\n",
        "        12.7,  14. ]),\n",
        " <a list of 10 Patch objects>)"
       ]
      },
      {
       "metadata": {},
       "output_type": "display_data",
       "png": "[encoded data removed]",
       "text": [
        "<matplotlib.figure.Figure at 0xbf88780>"
       ]
      }
     ],
     "prompt_number": 75
    },
    {
     "cell_type": "code",
     "collapsed": false,
     "input": [
      "chansons.groupby('date').id.count()\n",
      "# nettoyer les dates!"
     ],
     "language": "python",
     "metadata": {},
     "outputs": [
      {
       "metadata": {},
       "output_type": "pyout",
       "prompt_number": 76,
       "text": [
        "date\n",
        "Dimanche 19 mars       17\n",
        "Dimanche 22 mars      148\n",
        "Dimanche 29 mars      123\n",
        "Dimanche 5 avril       15\n",
        "Jeudi 19 mars         155\n",
        "Jeudi 2 avril         140\n",
        "Jeudi 26 mars         133\n",
        "Lundi 23 mars         195\n",
        "Lundi 30 mars         151\n",
        "Lundi 6 avril          17\n",
        "Mardi 24 mars         104\n",
        "Mardi 31 mars         133\n",
        "Mardi 31mars           14\n",
        "Mercredi 1e avril      60\n",
        "Mercredi 1er avril    129\n",
        "Mercredi 25 mars      155\n",
        "Samdi 4 avril          17\n",
        "Samedi 21  mars        15\n",
        "Samedi 21 mars        104\n",
        "Samedi 28 mars         17\n",
        "Samedi 4 avril        158\n",
        "Vendredi 20 mars       89\n",
        "Vendredi 27 mars      145\n",
        "Vendredi 3 avril      200\n",
        "dimanche 29 mars       17\n",
        "samedi 28 mars        153\n",
        "vendredi 27 mars       22\n",
        "dtype: int64"
       ]
      }
     ],
     "prompt_number": 76
    },
    {
     "cell_type": "code",
     "collapsed": false,
     "input": [
      "plt.hist(chansons.groupby('date').id.count(),alpha=0.5,normed=True)\n",
      "plt.hist(chansons.groupby('date').id.nunique(),alpha=0.5,normed=True)"
     ],
     "language": "python",
     "metadata": {},
     "outputs": [
      {
       "metadata": {},
       "output_type": "pyout",
       "prompt_number": 70,
       "text": [
        "(array([ 0.01821494,  0.        ,  0.00202388,  0.        ,  0.00607165,\n",
        "        0.00404776,  0.00607165,  0.01416717,  0.        ,  0.00404776]),\n",
        " array([  14. ,   32.3,   50.6,   68.9,   87.2,  105.5,  123.8,  142.1,\n",
        "        160.4,  178.7,  197. ]),\n",
        " <a list of 10 Patch objects>)"
       ]
      },
      {
       "metadata": {},
       "output_type": "display_data",
       "png": "[encoded data removed]",
       "text": [
        "<matplotlib.figure.Figure at 0xc0c4f28>"
       ]
      }
     ],
     "prompt_number": 70
    }
   ],
   "metadata": {}
  }
 ]
}